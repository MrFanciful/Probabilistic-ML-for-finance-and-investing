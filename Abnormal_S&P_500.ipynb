{
  "nbformat": 4,
  "nbformat_minor": 0,
  "metadata": {
    "colab": {
      "provenance": [],
      "authorship_tag": "ABX9TyN7RKV2nIOKl4E+Yitvloc1"
    },
    "kernelspec": {
      "name": "python3",
      "display_name": "Python 3"
    },
    "language_info": {
      "name": "python"
    }
  },
  "cells": [
    {
      "cell_type": "markdown",
      "metadata": {
        "id": "o9XMg1Cs_Wah"
      },
      "source": [
        "# Abnormality of S&P 500 returns\n",
        "\n",
        "In this notebook, we are also going to challenge the fundamental tenets of theoretical finance that asset price returns are normally distributed and that these distributions are time invariant (stationary ergodic).\n"
      ]
    },
    {
      "cell_type": "markdown",
      "metadata": {
        "id": "8QZYjgZFBZr2"
      },
      "source": [
        "# 1. Import Python libaries\n",
        "\n",
        "Import the appropriate Python libraries you will need to import, process and analyze financial data from the web. Install the Yahoo finance package."
      ]
    },
    {
      "cell_type": "code",
      "metadata": {
        "id": "YaPJ8jxB_UlC"
      },
      "source": [],
      "execution_count": null,
      "outputs": []
    },
    {
      "cell_type": "code",
      "metadata": {
        "id": "jyJFuzBhC5Bq"
      },
      "source": [
        "#Import Python libraries\n",
        "import pandas as pd\n",
        "from datetime import datetime\n",
        "import numpy as np\n",
        "\n",
        "import matplotlib.pyplot as plt\n",
        "plt.style.use('seaborn')\n",
        "\n",
        "#Install web scraper for Yahoo Finance\n",
        "!pip install yfinance\n",
        "import yfinance as yf"
      ],
      "execution_count": null,
      "outputs": []
    },
    {
      "cell_type": "markdown",
      "metadata": {
        "id": "fExtF3YKFF4n"
      },
      "source": [
        "# 2. Testing for normality of asset price returns\n",
        "\n",
        "Import over 30 years of S&P 500 ('SPY') price data into a dataframe called equity. Use SPY's closing prices to compute its daily returns. Remove NaNs from your dataframe. Visualize and summarize SPY's daily price returns.  \n",
        "\n",
        "According to theoretical finance, asset price returns should be normally or gaussian distributed. This implies that the skewness and kurtosis of its distribution should be 0 +/- negligible sampling errors. Compute the skewness and kurtosis of S&P price returns to validate this claim.\n",
        "\n",
        "Extra Bonus: Repeat this experiment for any time period to check if this claim was ever valid."
      ]
    },
    {
      "cell_type": "code",
      "metadata": {
        "colab": {
          "base_uri": "https://localhost:8080/",
          "height": 563
        },
        "id": "njCZgLdYHLYf",
        "outputId": "91834e13-a585-4614-a280-c8f917397463"
      },
      "source": [
        "#Import over 30 years of S&P 500 ('SPY') price data into a dataframe called equity\n",
        "start = datetime(1993, 2, 1)\n",
        "end = datetime(2022, 10, 15)\n",
        "equity = yf.Ticker('SPY').history(start=start, end=end)\n",
        "\n",
        "#Use SPY's closing prices to compute its daily returns. Remove NaNs from your dataframe.\n",
        "equity['Returns'] = equity['Close'].pct_change(1)*100\n",
        "equity = equity.dropna()\n",
        "\n",
        "#Visualize and summarize SPY's daily price returns. Compute its skewness and kurtosis.\n",
        "plt.hist(equity['Returns']), plt.title('Distribution of S&P 500 Daily Percentage Returns Over the Past 30 Years'), plt.xlabel('Daily Percentage Returns'), plt.ylabel('Frequency'), plt.show();\n",
        "print(\"Descriptive statistics of S&P 500 percentage returns:\\n{}\".format(equity['Returns'].describe().round(2)))\n",
        "print('The skewness of S&P 500 returns is: {0:.2f} and the kurtosis is: {1:.2f}.'.format(equity['Returns'].skew(), equity['Returns'].kurtosis()))"
      ],
      "execution_count": null,
      "outputs": [
        {
          "output_type": "display_data",
          "data": {
            "text/plain": [
              "<Figure size 576x396 with 1 Axes>"
            ],
            "image/png": "[encoded data removed]"
          },
          "metadata": {}
        },
        {
          "output_type": "stream",
          "name": "stdout",
          "text": [
            "Descriptive statistics of S&P 500 percentage returns:\n",
            "count    7481.00\n",
            "mean        0.04\n",
            "std         1.19\n",
            "min       -10.94\n",
            "25%        -0.44\n",
            "50%         0.07\n",
            "75%         0.59\n",
            "max        14.52\n",
            "Name: Returns, dtype: float64\n",
            "The skewness of S&P 500 returns is: -0.07 and the kurtosis is: 11.43.\n"
          ]
        }
      ]
    },
    {
      "cell_type": "markdown",
      "metadata": {
        "id": "trbjnKZlIF5N"
      },
      "source": [
        "# 3. Simulating normally distributed asset price returns\n",
        "\n",
        "Another tenet of theoretical finance is that the normally distributed asset price returns are also time invariant (stationary ergodic). This implies that we can estimate its statisical moments using a sufficiently large sample from any time period.\n",
        "\n",
        "In the cell below, estimate the mean and standard deviation from SPY's historical data. Use Numpy's random number generator to sample from a normal distribution with the above estimates of it's mean and standard deviation. In other words, you are simulating the world which theoretical finance claims we should be living in.\n",
        "\n",
        "Create a new column called 'Simulated' and generate the same number of random samples from Numpy's normal distribution as the actual data sample you've imported above for SPY. Visualize and summarize SPY's simulated daily price returns. Also, compute the skewness and kurtosis of the simulated daily price returns.\n",
        "\n",
        "Since we are sampling randomly from a normal distribution, the expected values for both skewness and kurtosis should be 0 +/- minor sampling errors. Analyze the differences between the actual and simulated returns of S&P 500."
      ]
    },
    {
      "cell_type": "code",
      "metadata": {
        "colab": {
          "base_uri": "https://localhost:8080/",
          "height": 563
        },
        "id": "s1NGEpI9SOSJ",
        "outputId": "576fe94d-6d73-4441-dfd6-caf4ca78adc7"
      },
      "source": [
        "#Estimate the mean and standard deviation from SPY's 30 year historical data\n",
        "mean = equity['Returns'].mean()\n",
        "vol = equity['Returns'].std()\n",
        "sample = equity['Returns'].count()\n",
        "\n",
        "#Use Numpy's random number generator to sample from a normal distribution with the above estimates of it's mean and standard deviation\n",
        "#Create a new column called 'Simulated' and generate the same number of random samples from Numpy's normal distribution as the actual data sample you've imported above for SPY\n",
        "equity['Simulated'] = np.random.normal(mean, vol, sample)\n",
        "\n",
        "#Visualize and summarize SPY's simulated daily price returns.\n",
        "plt.hist(equity['Simulated']), plt.title('Distribution of S&P 500 Simulated Daily Returns'), plt.xlabel('Simulated Daily Percentage Returns'), plt.ylabel('Frequency'), plt.show();\n",
        "print(\"Descriptive statistics of S&P 500 stock's simulated percentage returns:\\n{}\".format(equity['Simulated'].describe()))\n",
        "\n",
        "#Compute the skewness and kurtosis of the simulated daily price returns.\n",
        "print('The skewness of S&P 500 simulated returns is: {0} and the kurtosis is: {1}.'.format(equity['Simulated'].skew().round(2), equity['Simulated'].kurtosis().round(2)))\n"
      ],
      "execution_count": null,
      "outputs": [
        {
          "output_type": "display_data",
          "data": {
            "text/plain": [
              "<Figure size 576x396 with 1 Axes>"
            ],
            "image/png": "[encoded data removed]"
          },
          "metadata": {}
        },
        {
          "output_type": "stream",
          "name": "stdout",
          "text": [
            "Descriptive statistics of S&P 500 stock's simulated percentage returns:\n",
            "count    7481.000000\n",
            "mean        0.066626\n",
            "std         1.210278\n",
            "min        -4.562200\n",
            "25%        -0.736978\n",
            "50%         0.075256\n",
            "75%         0.880602\n",
            "max         4.326674\n",
            "Name: Simulated, dtype: float64\n",
            "The skewness of S&P 500 simulated returns is: -0.02 and the kurtosis is: -0.0.\n"
          ]
        }
      ]
    },
    {
      "cell_type": "markdown",
      "metadata": {
        "id": "QalDDQuDRjKe"
      },
      "source": [
        "# 4a. The actual daily expected shortfall\n",
        "\n",
        "Let's investigate the real life consequences of following these theoretical models of modern finance. In the cell below, use the non-parametric method you learned in module 3, to calculate the daily expected shortfall at the 99% confidence level based on the actual returns of S&P 500. Assume an investment of 1000 shares of SPY. Hint: Import scipy.stats and sort the actual returns."
      ]
    },
    {
      "cell_type": "code",
      "metadata": {
        "colab": {
          "base_uri": "https://localhost:8080/"
        },
        "collapsed": true,
        "id": "8PscP9IkSqiU",
        "outputId": "bf77f393-931b-418b-e261-67a8e8477c38"
      },
      "source": [
        "#@title\n",
        "from scipy.stats import scoreatpercentile as sp\n",
        "\n",
        "investment = 1000 * equity['Close'][-1]\n",
        "confidence = 99\n",
        "cutoff_percent = 100 - confidence\n",
        "\n",
        "sorted_returns = equity['Returns'].sort_values()\n",
        "\n",
        "# Figure out the number of losses that will be in this percentile\n",
        "frequency = int(sorted_returns.count()*cutoff_percent/100)\n",
        "\n",
        "# Take the mean of the losses that are in the percentile to calculate Expected Shortfall.\n",
        "expected_shortfall = sorted_returns[:frequency].mean()\n",
        "\n",
        "print(\"The daily Expected Shortfall is {0:.2f}% with a dollar loss of ${1:.2f} based on a current investment of {2:.2f}.\".format(expected_shortfall, expected_shortfall*investment/100, investment))"
      ],
      "execution_count": null,
      "outputs": [
        {
          "output_type": "stream",
          "name": "stdout",
          "text": [
            "The daily Expected Shortfall is -4.79% with a dollar loss of $-17137.94 based on a current investment of 357630.00.\n"
          ]
        }
      ]
    },
    {
      "cell_type": "code",
      "metadata": {
        "id": "FXUMgrXDGCaC"
      },
      "source": [],
      "execution_count": null,
      "outputs": []
    },
    {
      "cell_type": "markdown",
      "metadata": {
        "id": "GeYKl_MSGGsk"
      },
      "source": [
        "# 4b. The theoretical daily expected shortfall\n",
        "\n",
        "Now compute the daily expected shortfall at 99% confidence level using the simulated gaussian/normal returns of SPY you generated in section 3 above based on the tenets of financial theory. Remember this is what theoretical finance believes how the data should be distributed. Assume the same investment of 1000 shares of SPY."
      ]
    },
    {
      "cell_type": "code",
      "metadata": {
        "id": "aPFN6EAdHnuc"
      },
      "source": [],
      "execution_count": null,
      "outputs": []
    },
    {
      "cell_type": "code",
      "metadata": {
        "colab": {
          "base_uri": "https://localhost:8080/"
        },
        "collapsed": true,
        "id": "if241vHrdriU",
        "outputId": "f72ec7a6-0dbc-428f-f179-98bc0cf0efaf"
      },
      "source": [
        "#@title\n",
        "sorted_sim_returns = equity['Simulated'].sort_values()\n",
        "\n",
        "# Take the mean of the losses that are in the percentile to calculate Expected Shortfall.\n",
        "sim_expected_shortfall = sorted_sim_returns[:frequency].mean()\n",
        "\n",
        "print(\"The daily Expected Shortfall is {0:.2f}% with a dollar loss of ${1:.2f} based on a current investment of {2:.2f}.\".format(sim_expected_shortfall, sim_expected_shortfall*investment/100, investment))"
      ],
      "execution_count": null,
      "outputs": [
        {
          "output_type": "stream",
          "name": "stdout",
          "text": [
            "The daily Expected Shortfall is -3.42% with a dollar loss of $-15613.92 based on a current investment of 455959.99.\n"
          ]
        }
      ]
    },
    {
      "cell_type": "markdown",
      "metadata": {
        "id": "KPmgZLWWXkA6"
      },
      "source": [
        "# 4c. Calculate by how much theoretical models underestimated tail risk\n",
        "\n",
        "In the cell below, calculate the difference between the theoretical and actual expected shortfall, both in terms of percentages and actual dollars.\n",
        "\n",
        "This would be the amount of risk you would have underestimated or money you would have lost adhering to the tenets of modern finance. These deeply flawed theoretical VaR models are what most banks used in the years leading to the Great Financial Crisis of the last decade.\n",
        "\n",
        "To get a sense of these losses, change your investment portfolio to hundred's of billions of dollars to calculate the losses or capital shortfalls that the banks experienced."
      ]
    },
    {
      "cell_type": "code",
      "metadata": {
        "id": "c-9HAYThbapM"
      },
      "source": [],
      "execution_count": null,
      "outputs": []
    },
    {
      "cell_type": "code",
      "metadata": {
        "colab": {
          "base_uri": "https://localhost:8080/"
        },
        "id": "zYfaoS2hb3Tu",
        "outputId": "0fde36b1-bfa7-46f3-ab10-a10f294ce5e9"
      },
      "source": [
        "#@title\n",
        "underestimate = expected_shortfall - sim_expected_shortfall\n",
        "loss = underestimate/100 * investment\n",
        "print(\"The expected shortfall was underestimated by {0:.2f}% which would have led to a dollar shortfall of ${1:.2f} based on a current investment of {2:.2f}.\".format(underestimate, loss, investment))"
      ],
      "execution_count": null,
      "outputs": [
        {
          "output_type": "stream",
          "name": "stdout",
          "text": [
            "I would have understimated my expected shortfall by -2.73% which would have led to a dollar shortfall of $-12430.30 based on a current investment of 455959.99.\n"
          ]
        }
      ]
    },
    {
      "cell_type": "markdown",
      "metadata": {
        "id": "Xl3QiRL9GwN9"
      },
      "source": [
        "# Conclusions\n",
        "\n",
        "Based on your experiments in this notebook, you can clearly see that normal distributions do not have any skewness (they are symmetrical) or kurtosis (no fat tails). This is why they under estimated the risks of fat tailed, or low probability events with negative returns, that characterize all asset price returns in the real world. You may want to repeat these experiments with different types of assets and time periods. The results will always underestimate the loss potential of low probability events compared to theoretical models of finance that rely on the normality and stationarity of asset price returns.\n",
        "\n",
        "These are not nice-to-know financial and statistical trivia. Asset price return distributions with negatively skewed, fat tails have the potential to bankrupt investors, corporations and entire economies if their modelers ignore them. The Great Financial Crisis is a recent reminder of the devastating consequences of building theoretical models using elegant mathematical equations that ignore the basic principles of the scientific method and the noisy, ugly, fat tailed realities of real world data.\n",
        "\n",
        "One of the main culprits of the crisis was the parametric VaR models used by banks to estimate the risks to their portfolios. Of course, these deeply flawed models had the blessings of financial theories and their high priests in academia who invoked fake economic 'Nobel Prizes' for benediction. Unlike these economists, we have everything to lose and not even a fake economics Nobel Prize to win by following their flimsy theoretical models.\n",
        "\n",
        "As data scientists, we must use data and the scientific method to challenge any theory, at any time. Even the great Albert Einstein was wrong about his views on Quantum Mechanics and his static model of the universe. Recall George Box's insightful quip, \"All models are wrong, but some are useful\". We should always endeavor to find more useful models with the awareness that they will always be incomplete and inadequate representations of reality."
      ]
    }
  ]
}