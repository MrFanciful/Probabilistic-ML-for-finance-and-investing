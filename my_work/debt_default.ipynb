{
 "cells": [
  {
   "cell_type": "code",
   "id": "initial_id",
   "metadata": {
    "collapsed": true,
    "ExecuteTime": {
     "end_time": "2024-10-03T19:25:38.160745Z",
     "start_time": "2024-10-03T19:25:31.074722Z"
    }
   },
   "source": [
    "import numpy as np\n",
    "import pandas as pd"
   ],
   "outputs": [],
   "execution_count": 1
  },
  {
   "metadata": {
    "ExecuteTime": {
     "end_time": "2024-10-03T19:26:48.081544Z",
     "start_time": "2024-10-03T19:26:48.078188Z"
    }
   },
   "cell_type": "code",
   "source": [
    "# Create DataFrame for bond analysis\n",
    "bonds = pd.DataFrame(index=['Default', 'No Default'])"
   ],
   "id": "cd0899f2eb756847",
   "outputs": [],
   "execution_count": 2
  },
  {
   "metadata": {
    "ExecuteTime": {
     "end_time": "2024-10-03T19:27:53.062590Z",
     "start_time": "2024-10-03T19:27:53.059613Z"
    }
   },
   "cell_type": "code",
   "source": [
    "# Prior probability of default\n",
    "# P(Default) = 0.10 and P(No Default) = 0.90\n",
    "bonds['Prior'] = 0.10, 0.90"
   ],
   "id": "936d46d35a8c5304",
   "outputs": [],
   "execution_count": 4
  },
  {
   "metadata": {
    "ExecuteTime": {
     "end_time": "2024-10-03T19:31:03.868851Z",
     "start_time": "2024-10-03T19:31:03.866395Z"
    }
   },
   "cell_type": "code",
   "source": [
    "# Likelihood functions for observing negative ratings\n",
    "# P(Negative|Default) = 0.70 and P(Negative|No Default) = 0.40\n",
    "bonds['Likeli_Neg'] = 0.70, 0.40"
   ],
   "id": "4fe89702ecd171e7",
   "outputs": [],
   "execution_count": 5
  },
  {
   "metadata": {
    "ExecuteTime": {
     "end_time": "2024-10-03T19:33:36.425274Z",
     "start_time": "2024-10-03T19:33:36.422330Z"
    }
   },
   "cell_type": "code",
   "source": [
    "# Joint probabilities of seeing a negative rating depending on default or no default\n",
    "# P(Negative|Default) * P(Default) and P(Negative|No Default) * P(No Default)\n",
    "bonds['Joint1'] = bonds['Likeli_Neg'] * bonds['Prior']"
   ],
   "id": "531ab1d913179291",
   "outputs": [],
   "execution_count": 7
  },
  {
   "metadata": {
    "ExecuteTime": {
     "end_time": "2024-10-03T19:33:39.484958Z",
     "start_time": "2024-10-03T19:33:39.479831Z"
    }
   },
   "cell_type": "code",
   "source": "bonds",
   "id": "1589e944cfb2db7f",
   "outputs": [
    {
     "data": {
      "text/plain": [
       "            Prior  Likeli_Neg  Joint1\n",
       "Default       0.1         0.7    0.07\n",
       "No Default    0.9         0.4    0.36"
      ],
      "text/html": [
       "<div>\n",
       "<style scoped>\n",
       "    .dataframe tbody tr th:only-of-type {\n",
       "        vertical-align: middle;\n",
       "    }\n",
       "\n",
       "    .dataframe tbody tr th {\n",
       "        vertical-align: top;\n",
       "    }\n",
       "\n",
       "    .dataframe thead th {\n",
       "        text-align: right;\n",
       "    }\n",
       "</style>\n",
       "<table border=\"1\" class=\"dataframe\">\n",
       "  <thead>\n",
       "    <tr style=\"text-align: right;\">\n",
       "      <th></th>\n",
       "      <th>Prior</th>\n",
       "      <th>Likeli_Neg</th>\n",
       "      <th>Joint1</th>\n",
       "    </tr>\n",
       "  </thead>\n",
       "  <tbody>\n",
       "    <tr>\n",
       "      <th>Default</th>\n",
       "      <td>0.1</td>\n",
       "      <td>0.7</td>\n",
       "      <td>0.07</td>\n",
       "    </tr>\n",
       "    <tr>\n",
       "      <th>No Default</th>\n",
       "      <td>0.9</td>\n",
       "      <td>0.4</td>\n",
       "      <td>0.36</td>\n",
       "    </tr>\n",
       "  </tbody>\n",
       "</table>\n",
       "</div>"
      ]
     },
     "execution_count": 8,
     "metadata": {},
     "output_type": "execute_result"
    }
   ],
   "execution_count": 8
  },
  {
   "metadata": {},
   "cell_type": "code",
   "outputs": [],
   "execution_count": null,
   "source": "",
   "id": "dda8d4525a704423"
  }
 ],
 "metadata": {
  "kernelspec": {
   "display_name": "Python 3",
   "language": "python",
   "name": "python3"
  },
  "language_info": {
   "codemirror_mode": {
    "name": "ipython",
    "version": 2
   },
   "file_extension": ".py",
   "mimetype": "text/x-python",
   "name": "python",
   "nbconvert_exporter": "python",
   "pygments_lexer": "ipython2",
   "version": "2.7.6"
  }
 },
 "nbformat": 4,
 "nbformat_minor": 5
}
